{
 "cells": [
  {
   "cell_type": "code",
   "execution_count": 1,
   "metadata": {},
   "outputs": [],
   "source": [
    "import pandas as pd\n",
    "import numpy as np\n",
    "import matplotlib.pyplot as plt"
   ]
  },
  {
   "cell_type": "code",
   "execution_count": 2,
   "metadata": {},
   "outputs": [],
   "source": [
    "with  open(\"data/layer1/enhancer.cv.txt\") as f:\n",
    "       enhancer_cv = f.readlines()\n",
    "       enhancer_cv = [s.strip() for s in enhancer_cv]\n",
    "with  open(\"data/layer1/enhancer.ind.txt\") as f:\n",
    "       enhancer_ind = f.readlines()\n",
    "       enhancer_ind = [s.strip() for s in enhancer_ind]\n",
    "with  open(\"data/layer1/non.cv.txt\") as f:\n",
    "       non_cv = f.readlines()\n",
    "       non_cv = [s.strip() for s in non_cv]\n",
    "with  open(\"data/layer1/non.ind.txt\") as f:\n",
    "       non_ind = f.readlines()\n",
    "       non_ind = [s.strip() for s in non_ind]"
   ]
  },
  {
   "cell_type": "code",
   "execution_count": 3,
   "metadata": {},
   "outputs": [
    {
     "data": {
      "text/plain": [
       "(3710, 3710, 500, 500)"
      ]
     },
     "execution_count": 3,
     "metadata": {},
     "output_type": "execute_result"
    }
   ],
   "source": [
    "with  open(\"data/layer2/strong_742.txt\") as f:\n",
    "       strong_742 = f.readlines()\n",
    "       strong_742 = [s.strip() for s in strong_742]\n",
    "with  open(\"data/layer2/weak_742.txt\") as f:\n",
    "       weak_742 = f.readlines()\n",
    "       weak_742 = [s.strip() for s in weak_742]\n",
    "with  open(\"data/layer2/strong_100.txt\") as f:\n",
    "       strong_100 = f.readlines()\n",
    "       strong_100 = [s.strip() for s in strong_100]\n",
    "with  open(\"data/layer2/weak_100.txt\") as f:\n",
    "       weak_100 = f.readlines()\n",
    "       weak_100 = [s.strip() for s in weak_100]\n",
    "    \n",
    "len(strong_742),len(weak_742),len(strong_100),len(weak_100)"
   ]
  },
  {
   "cell_type": "code",
   "execution_count": 4,
   "metadata": {},
   "outputs": [],
   "source": [
    "def remove_name_1(data):\n",
    "    data_new = []\n",
    "    for i in range(1,len(data),2):\n",
    "        data_new.append(data[i])\n",
    "    return data_new"
   ]
  },
  {
   "cell_type": "code",
   "execution_count": 5,
   "metadata": {},
   "outputs": [],
   "source": [
    "def remove_name_2(data):\n",
    "    data_new = []\n",
    "    for i in range(1,len(data),5):\n",
    "        data_new.append(data[i].upper()+data[i+1].upper()+data[i+2].upper()+data[i+3].upper())\n",
    "    return data_new"
   ]
  },
  {
   "cell_type": "code",
   "execution_count": 6,
   "metadata": {},
   "outputs": [
    {
     "name": "stdout",
     "output_type": "stream",
     "text": [
      "1484 200\n",
      "200 200\n",
      "1484 200\n",
      "200 200\n",
      "2968 400\n"
     ]
    }
   ],
   "source": [
    "enhancer_cv = remove_name_1(enhancer_cv)\n",
    "non_cv = remove_name_1(non_cv)\n",
    "enhancer_ind = remove_name_1(enhancer_ind)\n",
    "non_ind = remove_name_1(non_ind)\n",
    "print(len(enhancer_cv),len(enhancer_cv[0]))\n",
    "print(len(enhancer_ind),len(enhancer_ind[0]))\n",
    "print(len(non_cv),len(non_cv[0]))\n",
    "print(len(non_ind),len(non_ind[0]))\n",
    "train_x = np.concatenate([enhancer_cv, non_cv], axis=0)\n",
    "test_x = np.concatenate([enhancer_ind, non_ind], axis=0)\n",
    "print(len(train_x),len(test_x))"
   ]
  },
  {
   "cell_type": "code",
   "execution_count": 7,
   "metadata": {},
   "outputs": [
    {
     "name": "stdout",
     "output_type": "stream",
     "text": [
      "742 200\n",
      "742 200\n",
      "100 200\n",
      "100 200\n",
      "1484 200\n"
     ]
    }
   ],
   "source": [
    "strong_742 = remove_name_2(strong_742)\n",
    "weak_742 = remove_name_2(weak_742)\n",
    "strong_100 = remove_name_2(strong_100)\n",
    "weak_100 = remove_name_2(weak_100)\n",
    "print(len(strong_742),len(strong_742[0]))\n",
    "print(len(weak_742),len(weak_742[0]))\n",
    "print(len(strong_100),len(strong_100[0]))\n",
    "print(len(weak_100),len(weak_100[0]))\n",
    "train_x_1484 = np.concatenate([strong_742, weak_742], axis=0)\n",
    "test_x_200 = np.concatenate([strong_100, weak_100], axis=0)\n",
    "print(len(train_x_1484),len(test_x_200))"
   ]
  },
  {
   "cell_type": "code",
   "execution_count": 8,
   "metadata": {},
   "outputs": [
    {
     "name": "stdout",
     "output_type": "stream",
     "text": [
      "(2968,) (400,)\n"
     ]
    }
   ],
   "source": [
    "train_y = np.concatenate([np.ones((len(enhancer_cv),)), np.zeros((len(non_cv),))], axis=0)  #竖向拼接\n",
    "test_y = np.concatenate([np.ones((len(enhancer_ind),)), np.zeros((len(non_ind),))], axis=0)\n",
    "print(train_y.shape,test_y.shape)"
   ]
  },
  {
   "cell_type": "code",
   "execution_count": 9,
   "metadata": {},
   "outputs": [
    {
     "name": "stdout",
     "output_type": "stream",
     "text": [
      "(1484,) (200,)\n"
     ]
    }
   ],
   "source": [
    "train_y_1484 = np.concatenate([np.ones((len(strong_742),)), np.zeros((len(weak_742),))], axis=0)  #竖向拼接\n",
    "test_y_200 = np.concatenate([np.ones((len(strong_100),)), np.zeros((len(weak_100),))], axis=0)\n",
    "print(train_y_1484.shape,test_y_200.shape)"
   ]
  },
  {
   "cell_type": "code",
   "execution_count": 11,
   "metadata": {},
   "outputs": [],
   "source": [
    "def encode_matrix(seq_matrix):\n",
    "    \"\"\"将字符编码为整数\n",
    "    \"\"\"\n",
    "    ind_to_char = ['A','T','C','G','N']\n",
    "    char_to_ind = {char: i for i, char in enumerate(ind_to_char)}\n",
    "    return [[char_to_ind[i] for i in s] for s in seq_matrix]"
   ]
  },
  {
   "cell_type": "code",
   "execution_count": 12,
   "metadata": {},
   "outputs": [
    {
     "name": "stdout",
     "output_type": "stream",
     "text": [
      "(2968, 200) (400, 200)\n"
     ]
    }
   ],
   "source": [
    "train_x = encode_matrix(train_x)\n",
    "test_x = encode_matrix(test_x)\n",
    "train_x = np.array(train_x)\n",
    "test_x = np.array(test_x)\n",
    "print(train_x.shape,test_x.shape)"
   ]
  },
  {
   "cell_type": "code",
   "execution_count": 13,
   "metadata": {},
   "outputs": [
    {
     "name": "stdout",
     "output_type": "stream",
     "text": [
      "(1484, 200) (200, 200)\n"
     ]
    }
   ],
   "source": [
    "train_x_1484 = encode_matrix(train_x_1484)\n",
    "test_x_200 = encode_matrix(test_x_200)\n",
    "train_x_1484 = np.array(train_x_1484)\n",
    "test_x_200 = np.array(test_x_200)\n",
    "print(train_x_1484.shape,test_x_200.shape)"
   ]
  },
  {
   "cell_type": "code",
   "execution_count": 14,
   "metadata": {},
   "outputs": [],
   "source": [
    "#定义SN、SP、ACC、MCC\n",
    "def sn_sp_acc_mcc(true_label,predict_label,pos_label=1):\n",
    "    import math\n",
    "    pos_num = np.sum(true_label==pos_label)\n",
    "    print('pos_num=',pos_num)\n",
    "    neg_num = true_label.shape[0]-pos_num\n",
    "    print('neg_num=',neg_num)\n",
    "    tp =np.sum((true_label==pos_label) & (predict_label==pos_label))\n",
    "    print('tp=',tp)\n",
    "    tn = np.sum(true_label==predict_label)-tp\n",
    "    print('tn=',tn)\n",
    "    sn = tp/pos_num\n",
    "    sp = tn/neg_num\n",
    "    acc = (tp+tn)/(pos_num+neg_num)\n",
    "    fn = pos_num - tp\n",
    "    fp = neg_num - tn\n",
    "    print('fn=',fn)\n",
    "    print('fp=',fp)\n",
    "    \n",
    "    tp = np.array(tp,dtype=np.float64)\n",
    "    tn = np.array(tn,dtype=np.float64)\n",
    "    fp = np.array(fp,dtype=np.float64)\n",
    "    fn = np.array(fn,dtype=np.float64)\n",
    "    mcc = (tp*tn-fp*fn)/(np.sqrt((tp+fn)*(tp+fp)*(tn+fp)*(tn+fn)))\n",
    "    return sn,sp,acc,mcc"
   ]
  },
  {
   "cell_type": "code",
   "execution_count": 16,
   "metadata": {
    "scrolled": false
   },
   "outputs": [],
   "source": [
    "from tensorflow.keras import backend as K\n",
    "from tensorflow.keras import initializers, regularizers, constraints\n",
    "from tensorflow.keras.layers import Layer\n",
    "#https://zhuanlan.zhihu.com/p/97525394\n",
    "class Attention3d(Layer):\n",
    "    def __init__(self, step_dim,\n",
    "                 W_regularizer=None, b_regularizer=None,\n",
    "                 W_constraint=None, b_constraint=None,\n",
    "                 bias=True, **kwargs):\n",
    "        \"\"\"\n",
    "        Keras Layer that implements an Attention mechanism for temporal data.\n",
    "        Supports Masking.\n",
    "        Follows the work of Raffel et al. [https://arxiv.org/abs/1512.08756]\n",
    "        # Input shape\n",
    "            3D tensor with shape: `(samples, steps, features)`.\n",
    "        # Output shape\n",
    "            2D tensor with shape: `(samples, features)`.\n",
    "        :param kwargs:\n",
    "        Just put it on top of an RNN Layer (GRU/LSTM/SimpleRNN) with return_sequences=True.\n",
    "        The dimensions are inferred based on the output shape of the RNN.\n",
    "        Example:\n",
    "            # 1\n",
    "            model.add(LSTM(64, return_sequences=True))\n",
    "            model.add(Attention())\n",
    "            # next add a Dense layer (for classification/regression) or whatever...\n",
    "            # 2\n",
    "            hidden = LSTM(64, return_sequences=True)(words)\n",
    "            sentence = Attention()(hidden)\n",
    "            # next add a Dense layer (for classification/regression) or whatever...\n",
    "        \"\"\"\n",
    "        #self.supports_masking = True\n",
    "        \n",
    "\n",
    "        self.W_regularizer = regularizers.get(W_regularizer)\n",
    "        self.b_regularizer = regularizers.get(b_regularizer)\n",
    "\n",
    "        self.W_constraint = constraints.get(W_constraint)\n",
    "        self.b_constraint = constraints.get(b_constraint)\n",
    "\n",
    "        self.bias = bias\n",
    "        self.step_dim = step_dim\n",
    "        self.features_dim = 0\n",
    "\n",
    "        super(Attention3d, self).__init__(**kwargs)\n",
    "    def get_config(self):\n",
    "         config = {\"W_regularizer\":self.W_regularizer,\n",
    "                   \"b_regularizer\":self.b_regularizer,\"W_constraint\":self.W_constraint,\"b_constraint\":self.b_constraint,\n",
    "                    \"bias\":self.bias,\"step_dim\":self.step_dim,\"features_dim\":self.features_dim}\n",
    "         base_config = super(Attention3d, self).get_config()\n",
    "         return dict(list(base_config.items()) + list(config.items()))\n",
    "\n",
    "    def build(self, input_shape):\n",
    "        assert len(input_shape) == 3\n",
    "\n",
    "        self.W = self.add_weight(shape=(input_shape[-1],),\n",
    "                                 initializer=initializers.get('glorot_uniform'),\n",
    "                                 name='{}_W'.format(self.name),\n",
    "                                 regularizer=self.W_regularizer,\n",
    "                                 constraint=self.W_constraint)\n",
    "        self.features_dim = input_shape[-1]\n",
    "\n",
    "        if self.bias:\n",
    "            self.b = self.add_weight(shape=(input_shape[1],),\n",
    "                                     initializer='zero',\n",
    "                                     name='{}_b'.format(self.name),\n",
    "                                     regularizer=self.b_regularizer,\n",
    "                                     constraint=self.b_constraint)\n",
    "        else:\n",
    "            self.b = None\n",
    "\n",
    "        self.built = True\n",
    "\n",
    "    def compute_mask(self, input, input_mask=None):\n",
    "        # do not pass the mask to the next layers\n",
    "        return None\n",
    "\n",
    "    def call(self, x, mask=None):\n",
    "        features_dim = self.features_dim\n",
    "        step_dim = self.step_dim\n",
    "\n",
    "        e = K.reshape(K.dot(K.reshape(x, (-1, features_dim)), K.reshape(self.W, (features_dim, 1))), (-1, step_dim))  # e = K.dot(x, self.W)\n",
    "        if self.bias:\n",
    "            e += self.b\n",
    "        e = K.tanh(e)\n",
    "\n",
    "        a = K.exp(e)\n",
    "        # apply mask after the exp. will be re-normalized next\n",
    "        if mask is not None:\n",
    "            # cast the mask to floatX to avoid float64 upcasting in theano\n",
    "            a *= K.cast(mask, K.floatx())\n",
    "        # in some cases especially in the early stages of training the sum may be almost zero\n",
    "        # and this results in NaN's. A workaround is to add a very small positive number ε to the sum.\n",
    "        a /= K.cast(K.sum(a, axis=1, keepdims=True) + K.epsilon(), K.floatx())\n",
    "        a = K.expand_dims(a)\n",
    "\n",
    "        c = K.sum(a * x, axis=1)\n",
    "        return c\n",
    "\n",
    "    def compute_output_shape(self, input_shape):\n",
    "        return input_shape[0], self.features_dim"
   ]
  },
  {
   "cell_type": "code",
   "execution_count": 17,
   "metadata": {},
   "outputs": [],
   "source": [
    "def resnet_identity_block(input_data, filters, kernel_size):\n",
    "    # CNN层\n",
    "    x = Conv1D(filters, kernel_size, strides=1, padding='same')(input_data)\n",
    "    x = BatchNormalization()(x)  #批次标准化\n",
    "    x = Activation('relu')(x)\n",
    "    # 第二层没有激活函数\n",
    "    x = Conv1D(filters, kernel_size, strides=1, padding='same')(x)\n",
    "    x = BatchNormalization()(x)\n",
    "    # 两个张量相加\n",
    "    x = Add()([x, input_data])\n",
    "    # 对相加的结果使用ReLU激活\n",
    "    x = Activation('relu')(x)\n",
    "    # 返回结果\n",
    "    return x\n",
    "\n",
    "def resnet_convolutional_block(input_data, filters, kernel_size):\n",
    "    # CNN层\n",
    "    x = Conv1D(filters, kernel_size, strides=2, padding='valid')(input_data)\n",
    "    x = BatchNormalization()(x)  #批次标准化\n",
    "    x = Activation('relu')(x)\n",
    "    # 第二层没有激活函数\n",
    "    x = Conv1D(filters, kernel_size, padding='same')(x)\n",
    "    x = BatchNormalization()(x)\n",
    "    X = Conv1D(filters, kernel_size, strides=2, padding='valid')(input_data)\n",
    "    # 两个张量相加\n",
    "    x = Add()([x, X])\n",
    "    # 对相加的结果使用ReLU激活\n",
    "    x = Activation('relu')(x)\n",
    "    # 返回结果\n",
    "    return x"
   ]
  },
  {
   "cell_type": "code",
   "execution_count": 18,
   "metadata": {},
   "outputs": [],
   "source": [
    "from tensorflow.keras import Input, Model\n",
    "from tensorflow.keras.layers import Embedding,Dense,Flatten,Dropout,Add,Bidirectional,LSTM,Conv1D,GlobalMaxPool1D,MaxPooling1D,BatchNormalization,Activation,Reshape\n",
    "import tensorflow as tf\n",
    "\n",
    "def define_model():\n",
    "    maxlen = 200\n",
    "    max_features = 5\n",
    "    embedding_dims = 32\n",
    "    class_num = 1\n",
    "    last_activation = 'sigmoid'\n",
    "    input = Input((maxlen,))\n",
    "    embedding = Embedding(max_features, embedding_dims, input_length=maxlen)(input)\n",
    "    y = Conv1D(32, 8, strides=1, padding='same')(embedding)\n",
    "    y = BatchNormalization()(y)\n",
    "    y = Activation('relu')(y)\n",
    "    y = MaxPooling1D(pool_size=2, strides=1)(y)\n",
    "    y = resnet_convolutional_block(y, 64, 8)   #卷积残差快  https://blog.csdn.net/qq_31050167/article/details/79161077\n",
    "    y = resnet_identity_block(y, 64, 8)   #恒等残差块\n",
    "    y = resnet_identity_block(y, 64, 8) \n",
    "    y = GlobalMaxPool1D()(y)\n",
    "\n",
    "    x = Bidirectional(LSTM(32, return_sequences=True))(embedding)  # LSTM\n",
    "    x = Bidirectional(LSTM(32, return_sequences=True))(x)\n",
    "    x = Attention3d(maxlen)(x)\n",
    "    x = Dropout(0.5)(x)\n",
    "\n",
    "    t = tf.keras.layers.Concatenate()([x,y])\n",
    "    t = Dense(16,activation='relu')(t)\n",
    "    output = Dense(class_num, activation=last_activation)(t)\n",
    "    model = Model(inputs=input, outputs=output)\n",
    "    model.compile(loss=tf.keras.losses.BinaryCrossentropy(from_logits=True),\n",
    "                  optimizer=tf.keras.optimizers.Adam(learning_rate=1e-4),\n",
    "                  metrics=['accuracy'])\n",
    "    return model"
   ]
  },
  {
   "cell_type": "code",
   "execution_count": 19,
   "metadata": {},
   "outputs": [],
   "source": [
    "#第一层\n",
    "model_layer1 = define_model()\n",
    "#第二层\n",
    "model_layer2 = define_model()"
   ]
  },
  {
   "cell_type": "code",
   "execution_count": 20,
   "metadata": {},
   "outputs": [],
   "source": [
    "model_layer1.load_weights('ResNet+LSTM+Attention(layer1).h5')\n",
    "model_layer2.load_weights('ResNet+LSTM+Attention(layer2).h5')"
   ]
  },
  {
   "cell_type": "code",
   "execution_count": 21,
   "metadata": {},
   "outputs": [
    {
     "name": "stdout",
     "output_type": "stream",
     "text": [
      "pos_num= 200\n",
      "neg_num= 200\n",
      "tp= 159\n",
      "tn= 163\n",
      "fn= 41\n",
      "fp= 37\n",
      "(0.795, 0.815, 0.805, 0.6101220366122043)\n",
      "pos_num= 100\n",
      "neg_num= 100\n",
      "tp= 99\n",
      "tn= 80\n",
      "fn= 1\n",
      "fp= 20\n",
      "(0.99, 0.8, 0.895, 0.8046575696136522)\n",
      "0.85875\n",
      "0.9637\n"
     ]
    },
    {
     "data": {
      "image/png": "[encoded data removed]",
      "text/plain": [
       "<Figure size 360x360 with 1 Axes>"
      ]
     },
     "metadata": {
      "needs_background": "light"
     },
     "output_type": "display_data"
    }
   ],
   "source": [
    "res1 = model_layer1.predict(test_x)     #预测\n",
    "pred1 = np.squeeze(res1,axis=-1)\n",
    "f1 = pred1>0.5\n",
    "pred1[f1]=1\n",
    "pred1[pred1<0.6]=0\n",
    "sn_sp_acc_mcc1 = sn_sp_acc_mcc(test_y,pred1,pos_label=1)\n",
    "print(sn_sp_acc_mcc1)\n",
    "\n",
    "res2 = model_layer2.predict(test_x_200)     #预测\n",
    "pred2 = np.squeeze(res2,axis=-1)\n",
    "f2 = pred2>0.5\n",
    "pred2[f2] = 1\n",
    "pred2[pred2<0.6] = 0\n",
    "sn_sp_acc_mcc2 = sn_sp_acc_mcc(test_y_200,pred2,pos_label=1)\n",
    "print(sn_sp_acc_mcc2)\n",
    "\n",
    "from sklearn.metrics import roc_curve,auc\n",
    "FPR_1,TPR_1,threshold_1 = roc_curve(test_y,model_layer1.predict(test_x),pos_label=1)\n",
    "FPR_2,TPR_2,threshold_2 = roc_curve(test_y_200,model_layer2.predict(test_x_200),pos_label=1)\n",
    "#AUC值计算\n",
    "AUC_1 = auc(FPR_1,TPR_1)\n",
    "AUC_2 = auc(FPR_2,TPR_2)\n",
    "print(AUC_1)\n",
    "print(AUC_2)\n",
    "#ROC曲线绘制\n",
    "plt.figure(figsize=(5,5))\n",
    "plt.title('ROC curves')\n",
    "plt.xlabel('False Positive Rate')\n",
    "plt.ylabel('True Positive Rate')\n",
    "plt.xlim([-0.05,1.05])\n",
    "plt.ylim([-0.05,1.05])\n",
    "plt.plot(FPR_1,TPR_1,color='r',label='Enhancer (AUC={:.4f})'.format(AUC_1))\n",
    "plt.plot(FPR_2,TPR_2,color='g',label='Strong or weak (AUC={:.4f})'.format(AUC_2))\n",
    "plt.plot([0, 1], [0, 1], color='m', linestyle='--')\n",
    "plt.legend(loc='lower right')\n",
    "# plt.savefig('layer1+layer2：Independent test ROC curves.png',dpi=300)\n",
    "# plt.savefig('layer1+layer2：Independent test ROC curves.pdf',dpi=300)\n",
    "# plt.savefig('layer1+layer2：Independent test ROC curves.jpg',dpi=300)\n",
    "plt.show()"
   ]
  },
  {
   "cell_type": "code",
   "execution_count": null,
   "metadata": {},
   "outputs": [],
   "source": []
  }
 ],
 "metadata": {
  "kernelspec": {
   "display_name": "Python 3",
   "language": "python",
   "name": "python3"
  },
  "language_info": {
   "codemirror_mode": {
    "name": "ipython",
    "version": 3
   },
   "file_extension": ".py",
   "mimetype": "text/x-python",
   "name": "python",
   "nbconvert_exporter": "python",
   "pygments_lexer": "ipython3",
   "version": "3.7.0"
  }
 },
 "nbformat": 4,
 "nbformat_minor": 2
}
