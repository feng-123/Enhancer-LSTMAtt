{
 "cells": [
  {
   "cell_type": "code",
   "execution_count": 2,
   "metadata": {},
   "outputs": [],
   "source": [
    "import re\n",
    "from Bio.SeqRecord import SeqRecord\n",
    "# from django import forms\n",
    "from Bio.Seq import Seq\n",
    "import numpy as np\n",
    "import pandas as pd\n",
    "from tensorflow import keras\n",
    "from tensorflow.keras import Input, Model\n",
    "from tensorflow.keras.layers import Embedding,Dense,Flatten,Dropout,Add,Bidirectional,LSTM,Conv1D,GlobalMaxPool1D,MaxPooling1D,BatchNormalization,Activation\n",
    "import tensorflow as tf\n",
    "from sklearn import preprocessing\n",
    "from itertools import product\n",
    "import joblib"
   ]
  },
  {
   "cell_type": "code",
   "execution_count": 3,
   "metadata": {},
   "outputs": [],
   "source": [
    "def encode_matrix(seq_matrix):\n",
    "    \"\"\"将字符编码为整数\n",
    "    \"\"\"\n",
    "    ind_to_char = ['A','T','C','G','N']\n",
    "    char_to_ind = {char: i for i, char in enumerate(ind_to_char)}\n",
    "    return [char_to_ind[i] for i in seq_matrix]"
   ]
  },
  {
   "cell_type": "code",
   "execution_count": 4,
   "metadata": {},
   "outputs": [],
   "source": [
    "from tensorflow.keras import backend as K\n",
    "from tensorflow.keras import initializers, regularizers, constraints\n",
    "from tensorflow.keras.layers import Layer\n",
    "#https://zhuanlan.zhihu.com/p/97525394\n",
    "class Attention3d(Layer):\n",
    "    def __init__(self, step_dim,\n",
    "                 W_regularizer=None, b_regularizer=None,\n",
    "                 W_constraint=None, b_constraint=None,\n",
    "                 bias=True, **kwargs):\n",
    "        \"\"\"\n",
    "        Keras Layer that implements an Attention mechanism for temporal data.\n",
    "        Supports Masking.\n",
    "        Follows the work of Raffel et al. [https://arxiv.org/abs/1512.08756]\n",
    "        # Input shape\n",
    "            3D tensor with shape: `(samples, steps, features)`.\n",
    "        # Output shape\n",
    "            2D tensor with shape: `(samples, features)`.\n",
    "        :param kwargs:\n",
    "        Just put it on top of an RNN Layer (GRU/LSTM/SimpleRNN) with return_sequences=True.\n",
    "        The dimensions are inferred based on the output shape of the RNN.\n",
    "        Example:\n",
    "            # 1\n",
    "            model.add(LSTM(64, return_sequences=True))\n",
    "            model.add(Attention())\n",
    "            # next add a Dense layer (for classification/regression) or whatever...\n",
    "            # 2\n",
    "            hidden = LSTM(64, return_sequences=True)(words)\n",
    "            sentence = Attention()(hidden)\n",
    "            # next add a Dense layer (for classification/regression) or whatever...\n",
    "        \"\"\"\n",
    "        #self.supports_masking = True\n",
    "        \n",
    "\n",
    "        self.W_regularizer = regularizers.get(W_regularizer)\n",
    "        self.b_regularizer = regularizers.get(b_regularizer)\n",
    "\n",
    "        self.W_constraint = constraints.get(W_constraint)\n",
    "        self.b_constraint = constraints.get(b_constraint)\n",
    "\n",
    "        self.bias = bias\n",
    "        self.step_dim = step_dim\n",
    "        self.features_dim = 0\n",
    "\n",
    "        super(Attention3d, self).__init__(**kwargs)\n",
    "    def get_config(self):\n",
    "         config = {\"W_regularizer\":self.W_regularizer,\n",
    "                   \"b_regularizer\":self.b_regularizer,\"W_constraint\":self.W_constraint,\"b_constraint\":self.b_constraint,\n",
    "                    \"bias\":self.bias,\"step_dim\":self.step_dim,\"features_dim\":self.features_dim}\n",
    "         base_config = super(Attention3d, self).get_config()\n",
    "         return dict(list(base_config.items()) + list(config.items()))\n",
    "\n",
    "    def build(self, input_shape):\n",
    "        assert len(input_shape) == 3\n",
    "\n",
    "        self.W = self.add_weight(shape=(input_shape[-1],),\n",
    "                                 initializer=initializers.get('glorot_uniform'),\n",
    "                                 name='{}_W'.format(self.name),\n",
    "                                 regularizer=self.W_regularizer,\n",
    "                                 constraint=self.W_constraint)\n",
    "        self.features_dim = input_shape[-1]\n",
    "\n",
    "        if self.bias:\n",
    "            self.b = self.add_weight(shape=(input_shape[1],),\n",
    "                                     initializer='zero',\n",
    "                                     name='{}_b'.format(self.name),\n",
    "                                     regularizer=self.b_regularizer,\n",
    "                                     constraint=self.b_constraint)\n",
    "        else:\n",
    "            self.b = None\n",
    "\n",
    "        self.built = True\n",
    "\n",
    "    def compute_mask(self, input, input_mask=None):\n",
    "        # do not pass the mask to the next layers\n",
    "        return None\n",
    "\n",
    "    def call(self, x, mask=None):\n",
    "        features_dim = self.features_dim\n",
    "        step_dim = self.step_dim\n",
    "\n",
    "        e = K.reshape(K.dot(K.reshape(x, (-1, features_dim)), K.reshape(self.W, (features_dim, 1))), (-1, step_dim))  # e = K.dot(x, self.W)\n",
    "        if self.bias:\n",
    "            e += self.b\n",
    "        e = K.tanh(e)\n",
    "\n",
    "        a = K.exp(e)\n",
    "        # apply mask after the exp. will be re-normalized next\n",
    "        if mask is not None:\n",
    "            # cast the mask to floatX to avoid float64 upcasting in theano\n",
    "            a *= K.cast(mask, K.floatx())\n",
    "        # in some cases especially in the early stages of training the sum may be almost zero\n",
    "        # and this results in NaN's. A workaround is to add a very small positive number ε to the sum.\n",
    "        a /= K.cast(K.sum(a, axis=1, keepdims=True) + K.epsilon(), K.floatx())\n",
    "        a = K.expand_dims(a)\n",
    "\n",
    "        c = K.sum(a * x, axis=1)\n",
    "        return c\n",
    "\n",
    "    def compute_output_shape(self, input_shape):\n",
    "        return input_shape[0], self.features_dim"
   ]
  },
  {
   "cell_type": "code",
   "execution_count": 5,
   "metadata": {},
   "outputs": [],
   "source": [
    "def resnet_identity_block(input_data, filters, kernel_size):\n",
    "    # CNN层\n",
    "    x = Conv1D(filters, kernel_size, strides=1, padding='same')(input_data)\n",
    "    x = BatchNormalization()(x)  #批次标准化\n",
    "    x = Activation('relu')(x)\n",
    "    # 第二层没有激活函数\n",
    "    x = Conv1D(filters, kernel_size, strides=1, padding='same')(x)\n",
    "    x = BatchNormalization()(x)\n",
    "    # 两个张量相加\n",
    "    x = Add()([x, input_data])\n",
    "    # 对相加的结果使用ReLU激活\n",
    "    x = Activation('relu')(x)\n",
    "    # 返回结果\n",
    "    return x\n",
    "\n",
    "def resnet_convolutional_block(input_data, filters, kernel_size):\n",
    "    # CNN层\n",
    "    x = Conv1D(filters, kernel_size, strides=2, padding='valid')(input_data)\n",
    "    x = BatchNormalization()(x)  #批次标准化\n",
    "    x = Activation('relu')(x)\n",
    "    # 第二层没有激活函数\n",
    "    x = Conv1D(filters, kernel_size, padding='same')(x)\n",
    "    x = BatchNormalization()(x)\n",
    "    X = Conv1D(filters, kernel_size, strides=2, padding='valid')(input_data)\n",
    "    # 两个张量相加\n",
    "    x = Add()([x, X])\n",
    "    # 对相加的结果使用ReLU激活\n",
    "    x = Activation('relu')(x)\n",
    "    # 返回结果\n",
    "    return x"
   ]
  },
  {
   "cell_type": "code",
   "execution_count": 6,
   "metadata": {},
   "outputs": [],
   "source": [
    "def define_model():\n",
    "    maxlen = 200\n",
    "    max_features = 5\n",
    "    embedding_dims = 32\n",
    "    class_num = 1\n",
    "    last_activation = 'sigmoid'\n",
    "    input = Input((maxlen,))\n",
    "    embedding = Embedding(max_features, embedding_dims, input_length=maxlen)(input)\n",
    "    y = Conv1D(32, 8, strides=1, padding='same')(embedding)\n",
    "    y = BatchNormalization()(y)\n",
    "    y = Activation('relu')(y)\n",
    "    y = MaxPooling1D(pool_size=2, strides=1)(y)\n",
    "    y = resnet_convolutional_block(y, 64, 8)   #卷积残差快  https://blog.csdn.net/qq_31050167/article/details/79161077\n",
    "    y = resnet_identity_block(y, 64, 8)   #恒等残差块\n",
    "    y = resnet_identity_block(y, 64, 8) \n",
    "    y = GlobalMaxPool1D()(y)\n",
    "\n",
    "    x = Bidirectional(LSTM(32, return_sequences=True))(embedding)  # LSTM\n",
    "    x = Bidirectional(LSTM(32, return_sequences=True))(x)\n",
    "    x = Attention3d(maxlen)(x)\n",
    "    x = Dropout(0.5)(x)\n",
    "\n",
    "    t = tf.keras.layers.Concatenate()([x,y])\n",
    "    t = Dense(16,activation='relu')(t)\n",
    "    output = Dense(class_num, activation=last_activation)(t)\n",
    "    model = Model(inputs=input, outputs=output)\n",
    "    model.compile(loss=tf.keras.losses.BinaryCrossentropy(from_logits=True),\n",
    "                  optimizer=tf.keras.optimizers.Adam(learning_rate=1e-4),\n",
    "                  metrics=['accuracy'])\n",
    "    return model"
   ]
  },
  {
   "cell_type": "code",
   "execution_count": 7,
   "metadata": {},
   "outputs": [],
   "source": [
    "def model_layer1():\n",
    "    model_1 = define_model()\n",
    "    model_1.load_weights('ResNet+LSTM+Attention(layer1).h5')\n",
    "    return model_1"
   ]
  },
  {
   "cell_type": "code",
   "execution_count": 8,
   "metadata": {},
   "outputs": [],
   "source": [
    "def model_layer2():\n",
    "    model_2 = define_model()\n",
    "    model_2.load_weights('ResNet+LSTM+Attention(layer2).h5')\n",
    "    return model_2"
   ]
  },
  {
   "cell_type": "code",
   "execution_count": 9,
   "metadata": {},
   "outputs": [],
   "source": [
    "def predict_DNA_enhancer_layer1(seq):\n",
    "    predicted_id = []\n",
    "    predicted_range = []\n",
    "#     predicted_end = []\n",
    "    predicted_probability = []\n",
    "    predicted_probability_non = []\n",
    "    predicted_probability_strong = []\n",
    "    predicted_probability_weak = []\n",
    "    predicted_result = []\n",
    "    for record in seq:\n",
    "        record_id = record.id\n",
    "        record_seq = record.seq\n",
    "        record_seq = record_seq.upper()\n",
    "        record_seq = str(record_seq)\n",
    "        seq_set, index_set = seq_split(record_seq)\n",
    "        for s, ind in zip(seq_set,index_set):\n",
    "            predicted_id.append(record_id)\n",
    "            predicted_range.append(ind)\n",
    "#             predicted_end.append(ind[1])\n",
    "            feature = encode_matrix(s)\n",
    "            feature = np.array(feature)\n",
    "            feature = np.expand_dims(feature,axis=0)\n",
    "            res_1 = model_layer1().predict(feature)\n",
    "            Res_1 = np.squeeze(res_1)\n",
    "            predicted_probability.append(np.round(Res_1,4))\n",
    "            predicted_probability_non.append(np.round(1-Res_1,4))\n",
    "            if Res_1>0.5:\n",
    "                res_2 = predict_DNA_enhancer_layer2(feature)\n",
    "                Res_2 = np.squeeze(res_2)\n",
    "                if Res_2>0.5:\n",
    "                    predicted_result.append(\"Strong Enhancer Site\")\n",
    "                else:\n",
    "                    predicted_result.append(\"Weak Enhancer Site\")\n",
    "                predicted_probability_strong.append(np.round(Res_2,4))\n",
    "                predicted_probability_weak.append(np.round(1-Res_2,4))\n",
    "            else:\n",
    "                predicted_probability_strong.append(\"-\")\n",
    "                predicted_probability_weak.append(\"-\")\n",
    "                predicted_result.append(\"Not an Enhancer Site\")\n",
    "    return predicted_id,predicted_range,predicted_probability,predicted_probability_non,predicted_probability_strong,predicted_probability_weak,predicted_result"
   ]
  },
  {
   "cell_type": "code",
   "execution_count": 10,
   "metadata": {},
   "outputs": [],
   "source": [
    "def seq_split(seq):\n",
    "    pattern = r'[ACGT]+'\n",
    "    seq_len = len(seq)\n",
    "    check =re.match(pattern=pattern ,string=seq, flags=re.I)\n",
    "    seq_check_len = check.span()[1]\n",
    "    if seq_len!=seq_check_len:\n",
    "        return print('error')\n",
    "    else:\n",
    "        char_list = []\n",
    "        index_set = []\n",
    "        if seq_len<200:\n",
    "            ss = seq[seq_len-200:].rjust(200, 'N')\n",
    "#             current_index = [1,seq_len]\n",
    "            char_list.append(ss)\n",
    "            index_set.append(str(1)+\"-\"+str(seq_len))\n",
    "        elif seq_len==200:\n",
    "            ss = seq\n",
    "            current_index = [1,seq_len]\n",
    "            char_list.append(ss)\n",
    "            index_set.append(str(1)+\"-\"+str(seq_len))\n",
    "        else:\n",
    "            for i in range(seq_len-200):\n",
    "                ss = seq[i:i+200]\n",
    "#                 current_index = [i+1,200+i]\n",
    "                char_list.append(ss)\n",
    "                index_set.append(str(i+1)+\"-\"+str(200+i))\n",
    "    return char_list, index_set"
   ]
  },
  {
   "cell_type": "code",
   "execution_count": 12,
   "metadata": {},
   "outputs": [],
   "source": [
    "def predict_DNA_enhancer_layer2(feature):\n",
    "    res_2 = model_layer2().predict(feature)\n",
    "    return res_2"
   ]
  },
  {
   "cell_type": "code",
   "execution_count": 13,
   "metadata": {},
   "outputs": [
    {
     "name": "stdout",
     "output_type": "stream",
     "text": [
      "testing\n",
      "hello\n",
      "uc001aci.2\n",
      "(['uc001aci.2'], ['1-200'], [0.1633], [0.8367], ['-'], ['-'], ['Not an Enhancer Site'])\n"
     ]
    }
   ],
   "source": [
    "if __name__ == '__main__':\n",
    "    print('testing')\n",
    "    ss = [SeqRecord(\n",
    "        Seq(\"CTGCTCTCCTCGCTCTATAAAAGTCAGAGTGCCTAAGCTGTTAATTTGCAAACCCCTTCTTAATCTACCCTCTATTCATAGTTTATATCCAGAACTATGGTTTAATATAATCGTAAGGCCATTGACTTTTGAATACGTAGCTCCAGTCTTAGTCTCACTGGACTAGGTCCTATATCTAACCACTACCACAAAGTCTCCTA\"),\n",
    "        id=\"uc001aci.2\",\n",
    "        name=\">Chr11_6627824_6628024\",\n",
    "        description=\"toxic membrane protein, small\"), ]\n",
    "    print('hello')\n",
    "    for s in ss:                                                                                                                                                                                                                                                                                                                                                                                                                                                                                                                                                                                                                                                                                                                                                                                                                                                                                                                                                                                                                                                                                                                                                                                                                                                                                                                                                                                                                                                                                                                                                                                                                                                                                                                                                                                                                                                                                                                                                                                                                                                                                                                                                                                                                                                                                                                                                                                                                                  \n",
    "        print(s.id)\n",
    "    print(predict_DNA_enhancer_layer1(ss))"
   ]
  },
  {
   "cell_type": "code",
   "execution_count": 14,
   "metadata": {},
   "outputs": [
    {
     "name": "stdout",
     "output_type": "stream",
     "text": [
      "testing\n",
      "hello\n",
      "uc001aci.2\n",
      "(['uc001aci.2'], ['1-200'], [0.8981], [0.1019], [0.1472], [0.8528], ['Weak Enhancer Site'])\n"
     ]
    }
   ],
   "source": [
    "if __name__ == '__main__':\n",
    "    print('testing')\n",
    "    ss = [SeqRecord(\n",
    "        Seq(\"TGAGGAAGCACCAGTACAGGGATAAGAGATGAAGAGACAGGCCAGGTCAGGCTCACCAAGCAGGTAACCGGAACCTTTAATTTTATTATGTGGAATGCTTAATGCAGAGTTAATAGGGGCTAGAGTGGCTAGGAGAGGGGACTACTGAGATAAATAACAGGAGACAGTAATGAGTTACATGTGGATTTGGGGGGCTGCAG\"),\n",
    "        id=\"uc001aci.2\",\n",
    "        name=\">Chr11_6627824_6628024\",\n",
    "        description=\"toxic membrane protein, small\"), ]\n",
    "    print('hello')\n",
    "    for s in ss:                                                                                                                                                                                                                                                                                                                                                                                                                                                                                                                                                                                                                                                                                                                                                                                                                                                                                                                                                                                                                                                                                                                                                                                                                                                                                                                                                                                                                                                                                                                                                                                                                                                                                                                                                                                                                                                                                                                                                                                                                                                                                                                                                                                                                                                                                                                                                                                                                                  \n",
    "        print(s.id)\n",
    "    print(predict_DNA_enhancer_layer1(ss))"
   ]
  },
  {
   "cell_type": "code",
   "execution_count": 15,
   "metadata": {},
   "outputs": [
    {
     "name": "stdout",
     "output_type": "stream",
     "text": [
      "testing\n",
      "hello\n",
      "uc001aci.2\n",
      "(['uc001aci.2'], ['1-200'], [0.9903], [0.0097], [0.8364], [0.1636], ['Strong Enhancer Site'])\n"
     ]
    }
   ],
   "source": [
    "if __name__ == '__main__':\n",
    "    print('testing')\n",
    "    ss = [SeqRecord(\n",
    "        Seq(\"ATGCTGCCAGAAGGAAAAGGGGTGGAATTAATGAAACTGGAAGGTTGTGGTGCTGGTTTGAGGAGTAAAGTATGGGGGCCAAAGTTGGCTATATGCTGGATATGAAGAGGGGGTTAATTCCTTGCAGGTCTTCTTGAGATAGAAGTCCAGGCCCTGAGGTGGCAGGCAGCCTGATAGTGAACAGAACCCTTGTGCCCATA\"),\n",
    "        id=\"uc001aci.2\",\n",
    "        name=\">Chr11_6627824_6628024\",\n",
    "        description=\"toxic membrane protein, small\"), ]\n",
    "    print('hello')\n",
    "    for s in ss:                                                                                                                                                                                                                                                                                                                                                                                                                                                                                                                                                                                                                                                                                                                                                                                                                                                                                                                                                                                                                                                                                                                                                                                                                                                                                                                                                                                                                                                                                                                                                                                                                                                                                                                                                                                                                                                                                                                                                                                                                                                                                                                                                                                                                                                                                                                                                                                                                                  \n",
    "        print(s.id)\n",
    "    print(predict_DNA_enhancer_layer1(ss))"
   ]
  },
  {
   "cell_type": "code",
   "execution_count": 16,
   "metadata": {},
   "outputs": [
    {
     "name": "stdout",
     "output_type": "stream",
     "text": [
      "testing\n",
      "hello\n",
      "uc001aci.2\n",
      "(['uc001aci.2', 'uc001aci.2', 'uc001aci.2', 'uc001aci.2'], ['1-200', '2-201', '3-202', '4-203'], [0.9686, 0.9344, 0.9839, 0.9322], [0.0314, 0.0656, 0.0161, 0.0678], [0.7755, 0.6537, 0.7788, 0.6426], [0.2245, 0.3463, 0.2212, 0.3574], ['Strong Enhancer Site', 'Strong Enhancer Site', 'Strong Enhancer Site', 'Strong Enhancer Site'])\n"
     ]
    }
   ],
   "source": [
    "if __name__ == '__main__':\n",
    "    print('testing')\n",
    "    ss = [SeqRecord(\n",
    "        Seq(\"ATGCTGCTACTCAGAAGGAAAAGGGGTGGAATTAATGAAACTGGAAGGTTGTGGTGCTGGTTTGAGGAGTAAAGTATGGGGGCCAAAGTTGGCTATATGCTGGATATGAAGAGGGGGTTAATTCCTTGCAGGTCTTCTTGAGATAGAAGTCCAGGCCCTGAGGTGGCAGGCAGCCTGATAGTGAACAGAACCCTTGTGCCCATA\"),\n",
    "        id=\"uc001aci.2\",\n",
    "        name=\">Chr11_6627824_6628024\",\n",
    "        description=\"toxic membrane protein, small\"), ]\n",
    "    print('hello')\n",
    "    for s in ss:                                                                                                                                                                                                                                                                                                                                                                                                                                                                                                                                                                                                                                                                                                                                                                                                                                                                                                                                                                                                                                                                                                                                                                                                                                                                                                                                                                                                                                                                                                                                                                                                                                                                                                                                                                                                                                                                                                                                                                                                                                                                                                                                                                                                                                                                                                                                                                                                                                  \n",
    "        print(s.id)\n",
    "    print(predict_DNA_enhancer_layer1(ss))"
   ]
  },
  {
   "cell_type": "code",
   "execution_count": 17,
   "metadata": {},
   "outputs": [
    {
     "name": "stdout",
     "output_type": "stream",
     "text": [
      "testing\n",
      "hello\n",
      "uc001aci.2\n",
      "(['uc001aci.2'], ['1-195'], [0.2042], [0.7958], ['-'], ['-'], ['Not an Enhancer Site'])\n"
     ]
    }
   ],
   "source": [
    "if __name__ == '__main__':\n",
    "    print('testing')\n",
    "    ss = [SeqRecord(\n",
    "        Seq(\"ATGCTGCCAGAAGGAAAAGGGGTGGAATTAATGAAACTGGAGGTTGTGGTGCTGGTTTGAGGAGTAAAGTGGGCCAAAGTTGGCTATATGCTGGATATGAAGAGGGGGTTAATTCCTTGCAGGTCTTCTTGAGATAGAAGTCCAGGCCCTGAGGTGGCAGGCAGCCTGATAGTGAACAGAACCCTTGTGCCCATA\"),\n",
    "        id=\"uc001aci.2\",\n",
    "        name=\">Chr11_6627824_6628024\",\n",
    "        description=\"toxic membrane protein, small\"), ]\n",
    "    print('hello')\n",
    "    for s in ss:                                                                                                                                                                                                                                                                                                                                                                                                                                                                                                                                                                                                                                                                                                                                                                                                                                                                                                                                                                                                                                                                                                                                                                                                                                                                                                                                                                                                                                                                                                                                                                                                                                                                                                                                                                                                                                                                                                                                                                                                                                                                                                                                                                                                                                                                                                                                                                                                                                  \n",
    "        print(s.id)\n",
    "    print(predict_DNA_enhancer_layer1(ss))"
   ]
  },
  {
   "cell_type": "code",
   "execution_count": null,
   "metadata": {},
   "outputs": [],
   "source": []
  }
 ],
 "metadata": {
  "kernelspec": {
   "display_name": "Python 3",
   "language": "python",
   "name": "python3"
  },
  "language_info": {
   "codemirror_mode": {
    "name": "ipython",
    "version": 3
   },
   "file_extension": ".py",
   "mimetype": "text/x-python",
   "name": "python",
   "nbconvert_exporter": "python",
   "pygments_lexer": "ipython3",
   "version": "3.7.0"
  }
 },
 "nbformat": 4,
 "nbformat_minor": 2
}
